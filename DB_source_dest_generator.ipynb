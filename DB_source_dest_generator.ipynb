{
 "cells": [
  {
   "cell_type": "code",
   "execution_count": 1,
   "metadata": {
    "collapsed": false
   },
   "outputs": [],
   "source": [
    "import pandas as pd\n",
    "import os\n",
    "import xlwt"
   ]
  },
  {
   "cell_type": "code",
   "execution_count": 2,
   "metadata": {
    "collapsed": false
   },
   "outputs": [],
   "source": [
    "def decode_well(well_id):\n",
    "    return ord(well_id[0]) - 64, int(well_id[1:])\n",
    "\n",
    "\n",
    "class WorkBook():\n",
    "    def __init__(self, name):\n",
    "        self.name = name\n",
    "        self.line = 0\n",
    "        self.book = xlwt.Workbook(encoding=\"utf-8\")\n",
    "        self.sheet1 = self.book.add_sheet(name)\n",
    "        \n",
    "        self.write_line(['ID', 902])\n",
    "        self.write_line(['Name', '384gl'])\n",
    "        self.write_line(['Type', 384])\n",
    "        self.write_line(['Category', 'Gel Plate with Lid'])\n",
    "        self.write_line(['c', 'r', 'Gene'])\n",
    "\n",
    "    def write_line(self, line_list):\n",
    "        for entry, column in zip(line_list, range(len(line_list))):\n",
    "            self.sheet1.write(self.line, column, entry)\n",
    "        self.line += 1\n",
    "    \n",
    "    def write_destination_line(self, gname):\n",
    "        cp = (self.line - 5) % 24 + 1\n",
    "        rp = (self.line - 5) // 24 + 1\n",
    "        self.write_line([cp, rp, gname])\n",
    "        \n",
    "    def saveit(self, location=''):\n",
    "        self.book.save(\"{}{}.xls\".format(location, self.name))\n",
    "\n",
    "class Summary_file():\n",
    "    def __init__(self, name, location=''):\n",
    "        self.w_file = open(location + name +'.tsv','w')\n",
    "        print('Source Plate\\tSource Row\\tSource Column\\tDestination Plate'\n",
    "              '\\tDestination Row\\tDestination Column\\tGene', file=self.w_file)\n",
    "    \n",
    "    def writeline(self, source_loc, gene, dest_plate, dest_line):\n",
    "        print(source_loc[0],source_loc[1],source_loc[2], dest_plate, \n",
    "              (dest_line - 5) // 24 + 1, (dest_line - 5) % 24 + 1, gene, \n",
    "              sep='\\t', file=self.w_file)\n",
    "    \n",
    "    def closeit(self):\n",
    "        self.w_file.close()"
   ]
  },
  {
   "cell_type": "markdown",
   "metadata": {},
   "source": [
    "## SELECT UNIQUE IDs"
   ]
  },
  {
   "cell_type": "code",
   "execution_count": 3,
   "metadata": {
    "collapsed": false
   },
   "outputs": [
    {
     "name": "stdout",
     "output_type": "stream",
     "text": [
      "We have 3041 Unique IDs that we will ommit.\n"
     ]
    }
   ],
   "source": [
    "def select_uniques2(in_table, dom_per=25, sec_per=5, dom_count=20, ret_table=False):\n",
    "    selection = in_table[(in_table[\" % Domint ORF\"] >= dom_per) & (in_table[\" % 2nd Domint ORF\"] <= sec_per) & \n",
    "                        (in_table[\"Domint ORF count\"] >= dom_count)]\n",
    "    if ret_table:\n",
    "        return selection\n",
    "    return len(set(selection[\"  Domint ORF\"]))\n",
    "\n",
    "my_data_db = pd.DataFrame.from_csv('./input/finalYeastOrfeomeDBSummaryFile.txt', sep='\\t')\n",
    "\n",
    "# Formatting\n",
    "unique_ids = set([i[:i.index('_')] for i in select_uniques2(my_data_db, dom_per=30, ret_table=True)['  Domint ORF']])\n",
    "print(\"We have {} Unique IDs that we will ommit.\".format(len(unique_ids)))"
   ]
  },
  {
   "cell_type": "markdown",
   "metadata": {},
   "source": [
    "## Make Source Files"
   ]
  },
  {
   "cell_type": "code",
   "execution_count": 4,
   "metadata": {
    "collapsed": false
   },
   "outputs": [],
   "source": [
    "my_data = pd.read_excel('./input/Yeast ORFeome HIP ORFeome collection_v3 Details inc 384-format.xlsx')\n",
    "my_data = my_data.dropna(subset = ['ORF_NAME'])"
   ]
  },
  {
   "cell_type": "code",
   "execution_count": 5,
   "metadata": {
    "collapsed": false
   },
   "outputs": [
    {
     "name": "stdout",
     "output_type": "stream",
     "text": [
      "Total number of ORFs: 5348\n",
      "Number of Unique ORFs: 5305\n"
     ]
    }
   ],
   "source": [
    "vals = [(name, decode_well(well)[0], decode_well(well)[1],  poll[-2:]) for well, poll, name in\n",
    "        zip(list(my_data['scORFeome_384-format_HIP Well']), my_data['scORFeome_384-format_HIP Plate'], my_data['ORF_NAME'])]\n",
    "\n",
    "locations = {name: (int(plate), rn, cn) for name, rn, cn, plate in vals}\n",
    "print('Total number of ORFs:', len(my_data))\n",
    "print('Number of Unique ORFs:', len(locations))\n",
    "\n",
    "locations = {b:a for a,b in locations.items()}"
   ]
  },
  {
   "cell_type": "code",
   "execution_count": 6,
   "metadata": {
    "collapsed": false
   },
   "outputs": [],
   "source": [
    "empty_colony_count = 1\n",
    "for plate in range(1, 16):\n",
    "    source_wb = WorkBook('SPlate{}'.format(plate))\n",
    "    for row in range(1, 17):\n",
    "        for column in range(1, 25):\n",
    "            if (plate, row, column) in locations:\n",
    "                source_wb.write_line([column, row, locations[(plate, row, column)]])\n",
    "            else:\n",
    "                source_wb.write_line([column, row, 'empty_colony_{}'.format(empty_colony_count)])\n",
    "                empty_colony_count += 1\n",
    "    source_wb.saveit('./output/')"
   ]
  },
  {
   "cell_type": "markdown",
   "metadata": {},
   "source": [
    "# Make Destination Files"
   ]
  },
  {
   "cell_type": "code",
   "execution_count": 7,
   "metadata": {
    "collapsed": false,
    "scrolled": false
   },
   "outputs": [
    {
     "name": "stdout",
     "output_type": "stream",
     "text": [
      "Total picks done: 2264\n"
     ]
    }
   ],
   "source": [
    "total_picks = 0\n",
    "wb_count = 1\n",
    "picking_order = sorted(locations.keys())\n",
    "\n",
    "dest_wb = WorkBook('DB_DPlate{}'.format(wb_count))\n",
    "sum_wfile = Summary_file('Transfer_summary_DB', './output/')\n",
    "for pick in picking_order:\n",
    "    \n",
    "    if locations[pick] not in unique_ids:\n",
    "        total_picks += 1\n",
    "        dest_wb.write_destination_line(locations[pick])\n",
    "        sum_wfile.writeline(pick, locations[pick], wb_count, dest_wb.line - 1)\n",
    "        if dest_wb.line == 389:\n",
    "            dest_wb.saveit('./output/')\n",
    "            wb_count += 1\n",
    "            dest_wb = WorkBook('DB_DPlate{}'.format(wb_count))\n",
    "\n",
    "dest_wb.saveit('./output/')\n",
    "sum_wfile.closeit()\n",
    "print('Total picks done:', total_picks)"
   ]
  }
 ],
 "metadata": {
  "kernelspec": {
   "display_name": "Python 3",
   "language": "python",
   "name": "python3"
  },
  "language_info": {
   "codemirror_mode": {
    "name": "ipython",
    "version": 3
   },
   "file_extension": ".py",
   "mimetype": "text/x-python",
   "name": "python",
   "nbconvert_exporter": "python",
   "pygments_lexer": "ipython3",
   "version": "3.5.1"
  }
 },
 "nbformat": 4,
 "nbformat_minor": 0
}
