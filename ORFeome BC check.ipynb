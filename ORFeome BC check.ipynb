{
 "cells": [
  {
   "cell_type": "code",
   "execution_count": 1,
   "metadata": {
    "collapsed": false
   },
   "outputs": [],
   "source": [
    "import pandas as pd"
   ]
  },
  {
   "cell_type": "code",
   "execution_count": 2,
   "metadata": {
    "collapsed": true
   },
   "outputs": [],
   "source": [
    "def select_uniques(in_table, dom_per=25, sec_per=5, dom_count=20, ret_table=False):\n",
    "    selection = in_table[(in_table[\"% Dominant ORF\"] >= dom_per) & (in_table[\"% 2nd Dominant ORF\"] <= sec_per) & \n",
    "                        (in_table[\"Count Dominant ORF\"] >= dom_count)]\n",
    "    if ret_table:\n",
    "        return selection\n",
    "    return len(set(selection[\"Dominant ORF\"]))\n",
    "\n",
    "def select_uniques2(in_table, dom_per=25, sec_per=5, dom_count=20, ret_table=False):\n",
    "    selection = in_table[(in_table[\" % Domint ORF\"] >= dom_per) & (in_table[\" % 2nd Domint ORF\"] <= sec_per) & \n",
    "                        (in_table[\"Domint ORF count\"] >= dom_count)]\n",
    "    if ret_table:\n",
    "        return selection\n",
    "    return len(set(selection[\"  Domint ORF\"]))\n"
   ]
  },
  {
   "cell_type": "markdown",
   "metadata": {},
   "source": [
    "# DB Barcode checker"
   ]
  },
  {
   "cell_type": "code",
   "execution_count": 5,
   "metadata": {
    "collapsed": false,
    "scrolled": true
   },
   "outputs": [
    {
     "name": "stdout",
     "output_type": "stream",
     "text": [
      "Original number of Good (Non Unique) ORFs: 7148\n",
      "Number of ORFs after barcode quality check: 6771\n",
      "Number of unique ORFS: 2971\n",
      "\n",
      "Unique Barcode/Gene combinations:2958 (Orignial number of ORF: 3041)\n"
     ]
    }
   ],
   "source": [
    "my_data_db = pd.DataFrame.from_csv('./input/finalYeastOrfeomeDBSummaryFile.txt', sep='\\t')\n",
    "\n",
    "# SELECT GOOD ORFs\n",
    "db_filtered = select_uniques2(my_data_db, dom_per=30, ret_table=True)\n",
    "\n",
    "\n",
    "# SELECT GOOD BARCODES\n",
    "print('Original number of Good (Non Unique) ORFs:', len(db_filtered))\n",
    "c1 = db_filtered['  Domint Downtag Seq'].apply(lambda x: len(x) == 25)\n",
    "c2 = db_filtered[' Freq Domint Downtag Seq'] >= 0.25\n",
    "db_good = db_filtered[c1 & c2]\n",
    "\n",
    "print('Number of ORFs after barcode quality check:', len(db_good))\n",
    "print('Number of unique ORFS:', len(set(list(db_good['  Domint ORF']))))\n",
    "\n",
    "\n",
    "\n",
    "print('\\nUnique Barcode/Gene combinations:', end= '')\n",
    "all_bcs = set()\n",
    "all_genes = set()\n",
    "\n",
    "\n",
    "name_bc = list(zip(db_good[\"  Domint ORF\"], db_good[\"  Domint Downtag Seq\"]))\n",
    "clist = list(db_good[\"  Domint ORF\"])\n",
    "name_bc.sort(key = lambda x: clist.count(x[0]))\n",
    "\n",
    "for gene_name, bc in name_bc:\n",
    "     if gene_name not in all_genes and bc not in all_bcs:\n",
    "         all_bcs.add(bc)\n",
    "         all_genes.add(gene_name)\n",
    "\n",
    "print(len(all_bcs), '(Orignial good ORFs: {})'.format(len(set(list(db_filtered['  Domint ORF'])))))"
   ]
  }
 ],
 "metadata": {
  "kernelspec": {
   "display_name": "Python 3",
   "language": "python",
   "name": "python3"
  },
  "language_info": {
   "codemirror_mode": {
    "name": "ipython",
    "version": 3
   },
   "file_extension": ".py",
   "mimetype": "text/x-python",
   "name": "python",
   "nbconvert_exporter": "python",
   "pygments_lexer": "ipython3",
   "version": "3.5.1"
  }
 },
 "nbformat": 4,
 "nbformat_minor": 0
}
