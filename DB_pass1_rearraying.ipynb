{
 "cells": [
  {
   "cell_type": "code",
   "execution_count": 1,
   "metadata": {
    "collapsed": false
   },
   "outputs": [],
   "source": [
    "import pandas as pd\n",
    "import itertools\n",
    "import xlwt"
   ]
  },
  {
   "cell_type": "code",
   "execution_count": 2,
   "metadata": {
    "collapsed": false
   },
   "outputs": [],
   "source": [
    "def quality_filter(in_table):\n",
    "    in_table['  % Reads Mapped to Downtag Constant Seq'] = pd.to_numeric(in_table['  % Reads Mapped to Downtag Constant Seq'], errors='coerce')\n",
    "    in_table['  % Reads Mapped to Uptag Constant Seq'] = pd.to_numeric(in_table['  % Reads Mapped to Uptag Constant Seq'], errors='coerce')\n",
    "    \n",
    "    # Downtag\n",
    "    c1 = in_table['  Domint Downtag Seq'].apply(lambda x: len(x) == 25)\n",
    "    c2 = in_table[' Freq Domint Downtag Seq'] >= 0.25\n",
    "    c3 = in_table['  Domint Downtag Seq'].apply(lambda x: 'N' not in x)\n",
    "    \n",
    "    # Uptag\n",
    "    c4 = in_table['  Domint Uptag Seq'].apply(lambda x: len(x) == 25)\n",
    "    c5 = in_table[' Freq Domint Uptag Seq'] >= 0.25\n",
    "    c6 = in_table['  Domint Uptag Seq'].apply(lambda x: 'N' not in x)\n",
    "\n",
    "    # ORF filter\n",
    "    c7 = in_table[\" % Domint ORF\"] >= 30\n",
    "    c8 = in_table[\" % 2nd Domint ORF\"] <= 5\n",
    "    c9 = in_table[\" % Domint ORF\"] >= 20\n",
    "    return in_table[c1 & c2 & c3 & c4 & c5 & c6 & c7  & c8 & c9]\n",
    "\n",
    "\n",
    "def decode_well(well_id):\n",
    "    return ord(well_id[0]) - 64, int(well_id[1:])\n",
    "\n",
    "\n",
    "class WorkBook():\n",
    "    def __init__(self, name):\n",
    "        self.name = name\n",
    "        self.line = 0\n",
    "        self.book = xlwt.Workbook(encoding=\"utf-8\")\n",
    "        self.sheet1 = self.book.add_sheet(name)\n",
    "        \n",
    "        self.write_line(['ID', 902])\n",
    "        self.write_line(['Name', '384gl'])\n",
    "        self.write_line(['Type', 384])\n",
    "        self.write_line(['Category', 'Gel Plate with Lid'])\n",
    "        self.write_line(['c', 'r', 'Gene'])\n",
    "\n",
    "    def write_line(self, line_list):\n",
    "        for entry, column in zip(line_list, range(len(line_list))):\n",
    "            self.sheet1.write(self.line, column, entry)\n",
    "        self.line += 1\n",
    "    \n",
    "    def write_destination_line(self, gname):\n",
    "        cp = (self.line - 5) % 24 + 1\n",
    "        rp = (self.line - 5) // 24 + 1\n",
    "        self.write_line([cp, rp, gname])\n",
    "        \n",
    "    def saveit(self, location=''):\n",
    "        self.book.save(\"{}{}.xls\".format(location, self.name))\n",
    "\n",
    "class Summary_file():\n",
    "    def __init__(self, name, location=''):\n",
    "        self.w_file = open(location + name +'.tsv','w')\n",
    "        print('Source Plate\\tSource Row\\tSource Column\\tDestination Plate'\n",
    "              '\\tDestination Row\\tDestination Column\\tGene', file=self.w_file)\n",
    "    \n",
    "    def writeline(self, source_loc, gene, dest_plate, dest_line):\n",
    "        print(source_loc[0],source_loc[1],source_loc[2], dest_plate, \n",
    "              (dest_line - 5) // 24 + 1, (dest_line - 5) % 24 + 1, gene, \n",
    "              sep='\\t', file=self.w_file)\n",
    "    \n",
    "    def closeit(self):\n",
    "        self.w_file.close()\n",
    "        \n",
    "def well_format(well):\n",
    "    idx = well.split('_')[0]\n",
    "    row = (ord(well.split('_')[1][0]) - 64) * 2 - 1\n",
    "    col = (int(well.split('_')[1][1:])) * 2 - 1\n",
    "    \n",
    "    if idx == 'C' or idx == 'D':\n",
    "        row += 1\n",
    "    if idx == 'B' or idx == 'D':\n",
    "        col += 1\n",
    "    return 'x_' + chr(row + 64) + str(col)"
   ]
  },
  {
   "cell_type": "code",
   "execution_count": 3,
   "metadata": {
    "collapsed": false
   },
   "outputs": [
    {
     "name": "stdout",
     "output_type": "stream",
     "text": [
      "We have 2925 transferable colonies.\n"
     ]
    }
   ],
   "source": [
    "db_source = quality_filter(pd.read_csv('./input/finalYeastOrfeomeDBSummaryFile_v2.txt', sep='\\t'))\n",
    "db_source['Well'] = db_source['Well'].map(well_format)\n",
    "\n",
    "\n",
    "name_data = list(zip(db_source[\"  Domint ORF\"], db_source[\"  Domint Downtag Seq\"], db_source[\"  Domint Uptag Seq\"],\n",
    "                    db_source[\"Plate\"], db_source[\"Well\"]))\n",
    "\n",
    "clist = list(db_source[\"  Domint ORF\"])\n",
    "name_data.sort(key = lambda x: clist.count(x[0]))\n",
    "\n",
    "all_bcs1 = set()\n",
    "all_bcs2 = set()\n",
    "all_orfs = set()\n",
    "bc_orf_dict = dict()\n",
    "\n",
    "for gene_name, bc1, bc2, xplate, xwell in name_data:\n",
    "    gene_name = gene_name.split('_')[0]\n",
    "    if gene_name not in all_orfs and bc1 not in all_bcs1 and bc2 not in all_bcs2:\n",
    "        all_bcs1.add(bc1)\n",
    "        all_bcs2.add(bc2)\n",
    "        all_orfs.add(gene_name)\n",
    "        bc_orf_dict[gene_name] = [bc1, bc2, 'pass1_' + xplate + '_' + xwell.split('_')[1]  ]\n",
    "\n",
    "orf_mappings = sorted([[orf] + items for orf, items in bc_orf_dict.items()], key=lambda x: int(x[-1].split('-')[1].split('_')[0]))\n",
    "print('We have {} transferable colonies.'.format(len(orf_mappings)))\n",
    "# print(bc_orf_dict)"
   ]
  },
  {
   "cell_type": "markdown",
   "metadata": {},
   "source": [
    "## Make Source file"
   ]
  },
  {
   "cell_type": "code",
   "execution_count": 4,
   "metadata": {
    "collapsed": false
   },
   "outputs": [],
   "source": [
    "locations = {}\n",
    "for orf, downtag, uptag, location in orf_mappings:\n",
    "    splate = int(location.split('-')[1].split('_')[0])\n",
    "    row, column = decode_well(location.split('_')[-1])\n",
    "    locations[(splate, row, column)] = orf"
   ]
  },
  {
   "cell_type": "code",
   "execution_count": 5,
   "metadata": {
    "collapsed": false
   },
   "outputs": [],
   "source": [
    "empty_colony_count = 1\n",
    "for plate in range(1, 31):\n",
    "    source_wb = WorkBook('DB_pass1_SPlate_{}'.format(plate))\n",
    "    for row in range(1, 17):\n",
    "        for column in range(1, 25):\n",
    "            if (plate, row, column) in locations:\n",
    "                source_wb.write_line([column, row, locations[(plate, row, column)]])\n",
    "            else:\n",
    "                source_wb.write_line([column, row, 'dummy_colony_{}'.format(empty_colony_count)])\n",
    "                empty_colony_count += 1\n",
    "    source_wb.saveit('./output/ORF_selection_20160519/')"
   ]
  },
  {
   "cell_type": "code",
   "execution_count": 6,
   "metadata": {
    "collapsed": false
   },
   "outputs": [],
   "source": [
    "w_file = open('./output/ORF_selection_20160519/DB_barcodeORFeome_20160519.tsv', 'w')\n",
    "header = '\\t'.join(['Location', 'ORF', 'Downtag Sequence', 'Uptag Sequence', 'Source']) + '\\n'\n",
    "w_file.write(header)\n",
    "\n",
    "wb_count = 1\n",
    "total_picks = 0\n",
    "dest_wb = WorkBook('DB_BFG_yeastORFeome_Plate{}'.format(wb_count))\n",
    "\n",
    "for line in orf_mappings:\n",
    "    dest_wb.write_destination_line(line[0])\n",
    "    dest_line = dest_wb.line - 1            \n",
    "    row = chr((dest_line - 5) // 24 + 65)\n",
    "    column = (dest_line - 5) % 24 + 1\n",
    "    \n",
    "    print('DB{}_{}{}\\t'.format(wb_count, row, column) + '\\t'.join(line), file=w_file)\n",
    "\n",
    "    if dest_wb.line == 389:\n",
    "            dest_wb.saveit('./output/ORF_selection_20160519/')\n",
    "            wb_count += 1\n",
    "            dest_wb = WorkBook('DB_BFG_yeastORFeome_Plate{}'.format(wb_count))\n",
    "\n",
    "dest_wb.saveit('./output/ORF_selection_20160519/')\n",
    "w_file.close()"
   ]
  }
 ],
 "metadata": {
  "kernelspec": {
   "display_name": "Python 3",
   "language": "python",
   "name": "python3"
  },
  "language_info": {
   "codemirror_mode": {
    "name": "ipython",
    "version": 3
   },
   "file_extension": ".py",
   "mimetype": "text/x-python",
   "name": "python",
   "nbconvert_exporter": "python",
   "pygments_lexer": "ipython3",
   "version": "3.5.1"
  }
 },
 "nbformat": 4,
 "nbformat_minor": 0
}
