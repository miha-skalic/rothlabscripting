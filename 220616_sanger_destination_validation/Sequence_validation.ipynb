{
 "cells": [
  {
   "cell_type": "code",
   "execution_count": 1,
   "metadata": {
    "collapsed": true
   },
   "outputs": [],
   "source": [
    "import os \n",
    "import pandas as pd"
   ]
  },
  {
   "cell_type": "markdown",
   "metadata": {},
   "source": [
    "### Build Reference Fasta"
   ]
  },
  {
   "cell_type": "code",
   "execution_count": 2,
   "metadata": {
    "collapsed": false
   },
   "outputs": [],
   "source": [
    "orig_seqs = pd.read_excel('../05052016_sanger_validation/input/Yeast ORFeome HIP ORFeome collection_v3 Details inc 384-format.xlsx')\n",
    "\n",
    "seq_source = {str(seq_name): str(seq) for seq_name, seq in zip(orig_seqs['ORF_NAME'], orig_seqs['SEQ']) if str(seq_name) != 'nan'}\n",
    "\n",
    "with open('./temp/ref.fasta','w') as handle:\n",
    "    for seq in seq_source:\n",
    "        handle.write('>{}\\n{}\\n'.format(seq, seq_source[seq]))"
   ]
  },
  {
   "cell_type": "markdown",
   "metadata": {},
   "source": [
    "### Build query Fasta"
   ]
  },
  {
   "cell_type": "code",
   "execution_count": 3,
   "metadata": {
    "collapsed": false,
    "scrolled": false
   },
   "outputs": [],
   "source": [
    "all_quey_names = []\n",
    "qw_file = open('./temp/query.fasta', 'w')\n",
    "\n",
    "for file in os.listdir('./input/'):\n",
    "    if file[-4:] != '.seq':\n",
    "        continue\n",
    "    name = file.replace('--', '-') \n",
    "    name = '_'.join(name.split('_')[0].split('-')).upper()\n",
    "    all_quey_names.append(name)\n",
    "    with open('./input/{}'.format(file), 'r') as handle:\n",
    "        handle.__next__()\n",
    "        print('>{}\\n{}'.format(name, handle.__next__()), file=qw_file)\n",
    "qw_file.close()"
   ]
  },
  {
   "cell_type": "markdown",
   "metadata": {},
   "source": [
    "### Blasting"
   ]
  },
  {
   "cell_type": "code",
   "execution_count": 4,
   "metadata": {
    "collapsed": false
   },
   "outputs": [],
   "source": [
    "os.system('blastn -query ./temp/query.fasta -subject ./temp/ref.fasta -outfmt 6 -out ./temp/blastresults.txt')\n",
    "\n",
    "blast_hits = {}\n",
    "with open('./temp/blastresults.txt', 'r') as handle:\n",
    "    for line in handle:\n",
    "        line = line.split()\n",
    "        blast_hits[line[0]] = blast_hits.get(line[0], []) + [line[1]]\n"
   ]
  },
  {
   "cell_type": "markdown",
   "metadata": {},
   "source": [
    "### Check matches"
   ]
  },
  {
   "cell_type": "code",
   "execution_count": 5,
   "metadata": {
    "collapsed": false,
    "scrolled": false
   },
   "outputs": [],
   "source": [
    "# Fetch reference file\n",
    "source_dict = {}\n",
    "\n",
    "my_table = pd.read_table('../output/ORF_selection_20160519/DB_barcodeORFeome_20160519.tsv')\n",
    "for xloc, gene in zip(my_table['Location'], my_table['ORF']):\n",
    "    a = xloc.split('_')[0][2:]\n",
    "    b = xloc.split('_')[1]\n",
    "    built_name = 'DB_{}_{}'.format(a,b)\n",
    "    source_dict[built_name] = gene\n",
    "    \n",
    "my_table = pd.read_table('../output/ORF_selection_20160527/AD_barcodeORFeome_20160527.tsv')\n",
    "for xloc, gene in zip(my_table['Location'], my_table['ORF']):\n",
    "    a = xloc.split('_')[0][2:]\n",
    "    b = xloc.split('_')[1]\n",
    "    built_name = 'AD_{}_{}'.format(a,b)\n",
    "    source_dict[built_name] = gene\n"
   ]
  },
  {
   "cell_type": "code",
   "execution_count": 6,
   "metadata": {
    "collapsed": false,
    "scrolled": false
   },
   "outputs": [
    {
     "name": "stdout",
     "output_type": "stream",
     "text": [
      "WARNING: No blast hits for colony \"AD_1_C3\"\n",
      "WARNING: No blast hits for colony \"AD_1_F1\"\n",
      "WARNING: No blast hits for colony \"AD_1_K12\"\n",
      "WARNING: No blast hits for colony \"AD_1_M24\"\n",
      "WARNING: No blast hits for colony \"AD_1_P20\"\n",
      "OK: Gene \"YMR152W\" is in spot AD_2_B8\n",
      "WARNING: No blast hits for colony \"AD_2_C16\"\n",
      "OK: Gene \"YFL026W\" is in spot AD_2_H10\n",
      "WARNING: No blast hits for colony \"AD_2_I24\"\n",
      "WARNING: No blast hits for colony \"AD_2_P22\"\n",
      "WARNING: No blast hits for colony \"AD_3_B19\"\n",
      "WARNING: No blast hits for colony \"AD_3_D22\"\n",
      "WARNING: No blast hits for colony \"AD_3_L2\"\n",
      "WARNING: No blast hits for colony \"AD_3_M22\"\n",
      "WARNING: No blast hits for colony \"AD_3_O2\"\n",
      "WARNING: No blast hits for colony \"AD_4_C2\"\n",
      "OK: Gene \"YLR307C-A\" is in spot AD_4_D1\n",
      "OK: Gene \"YGR059W\" is in spot AD_4_K14\n",
      "WARNING: No blast hits for colony \"AD_4_N15\"\n",
      "OK: Gene \"YDL035C\" is in spot AD_4_P24\n",
      "OK: Gene \"YIL145C\" is in spot AD_5_D2\n",
      "OK: Gene \"YHR025W\" is in spot AD_5_F16\n",
      "WARNING: No blast hits for colony \"AD_5_J10\"\n",
      "WARNING: No blast hits for colony \"AD_5_M2\"\n",
      "WARNING: No blast hits for colony \"AD_5_O20\"\n",
      "OK: Gene \"YDR118W\" is in spot AD_6_D3\n",
      "OK: Gene \"YFL037W\" is in spot AD_6_G14\n",
      "OK: Gene \"YDR135C\" is in spot AD_6_I10\n",
      "OK: Gene \"YLR099W-A\" is in spot AD_6_O10\n",
      "OK: Gene \"YHL040C\" is in spot AD_6_P1\n",
      "OK: Gene \"YER026C\" is in spot AD_7_A1\n",
      "OK: Gene \"YAR023C\" is in spot AD_7_C19\n",
      "OK: Gene \"YLR350W\" is in spot AD_7_F10\n",
      "OK: Gene \"YGL037C\" is in spot AD_7_H3\n",
      "WARNING: No blast hits for colony \"AD_7_I4\"\n",
      "MISSMATCH: Spot \"DB_1_A1\" differs, expected \"YGR122W\" got \"['YLR378C']\"\n",
      "OK: Gene \"YDR476C\" is in spot DB_1_D20\n",
      "WARNING: No blast hits for colony \"DB_1_H2\"\n",
      "OK: Gene \"YDR320C-A\" is in spot DB_1_K24\n",
      "OK: Gene \"YHR117W\" is in spot DB_1_P2\n",
      "OK: Gene \"YDR536W\" is in spot DB_2_B12\n",
      "WARNING: No blast hits for colony \"DB_2_E20\"\n",
      "OK: Gene \"YOR069W\" is in spot DB_2_G2\n",
      "OK: Gene \"YGR293C\" is in spot DB_2_J1\n",
      "OK: Gene \"YIL046W-A\" is in spot DB_2_M24\n",
      "OK: Gene \"YPL015C\" is in spot DB_3_A2\n",
      "OK: Gene \"YHL027W\" is in spot DB_3_C19\n",
      "OK: Gene \"YGR085C\" is in spot DB_3_D1\n",
      "OK: Gene \"YIR042C\" is in spot DB_3_K24\n",
      "OK: Gene \"YDR491C\" is in spot DB_3_N4\n",
      "MISSMATCH: Spot \"DB_4_C1\" differs, expected \"YMR011W\" got \"['YHR033W']\"\n",
      "OK: Gene \"YBR087W\" is in spot DB_4_F12\n",
      "OK: Gene \"YJL097W\" is in spot DB_4_H24\n",
      "OK: Gene \"YHR097C\" is in spot DB_4_L3\n",
      "OK: Gene \"YBL091C-A\" is in spot DB_4_O13\n",
      "OK: Gene \"YKR003W\" is in spot DB_5_A20\n",
      "OK: Gene \"YOR295W\" is in spot DB_5_D6\n",
      "OK: Gene \"YHR180W\" is in spot DB_5_I12\n",
      "OK: Gene \"YPL262W\" is in spot DB_5_L20\n",
      "OK: Gene \"YLR234W\" is in spot DB_5_N2\n",
      "OK: Gene \"YLL038C\" is in spot DB_6_E1\n",
      "OK: Gene \"YJL080C\" is in spot DB_6_G22\n",
      "OK: Gene \"YPL061W\" is in spot DB_6_I1\n",
      "OK: Gene \"YHR043C\" is in spot DB_6_L5\n",
      "WARNING: No blast hits for colony \"DB_6_O24\"\n",
      "WARNING: No blast hits for colony \"DB_7_A4\"\n",
      "WARNING: No blast hits for colony \"DB_7_G8\"\n",
      "OK: Gene \"YAL016W\" is in spot DB_7_K18\n",
      "OK: Gene \"YDL217C\" is in spot DB_7_M24\n",
      "OK: Gene \"YKL035W\" is in spot DB_7_P4\n",
      "OK: Gene \"YDR494W\" is in spot DB_8_A19\n",
      "OK: Gene \"YJL194W\" is in spot DB_8_C10\n",
      "OK: Gene \"YNL162W-A\" is in spot DB_8_E12\n",
      "MISSMATCH: Spot \"DB_8_F24\" differs, expected \"YDL144C\" got \"['YIL049W']\"\n",
      "OK: Gene \"YIL049W\" is in spot DB_8_G20\n",
      "\n",
      "Summary:\n",
      "OK hits: 48\n",
      "No hits/bad quality: 24\n",
      "Wrong hits:  3\n"
     ]
    }
   ],
   "source": [
    "c_wr, c_ok , c_mm = 0, 0, 0\n",
    "\n",
    "for query in sorted(all_quey_names):\n",
    "    if query not in blast_hits:\n",
    "        print('WARNING: No blast hits for colony \"{}\"'.format(query))\n",
    "        c_wr += 1 \n",
    "    elif source_dict[query] in blast_hits[query]:\n",
    "        print('OK: Gene \"{}\" is in spot {}'.format(source_dict[query], query))\n",
    "        c_ok += 1\n",
    "    else:\n",
    "        print('MISSMATCH: Spot \"{}\" differs, expected \"{}\" got \"{}\"'.format(query, source_dict[query], blast_hits[query]))\n",
    "        c_mm += 1\n",
    "\n",
    "print('\\nSummary:')\n",
    "print('OK hits:', c_ok)\n",
    "print('No hits/bad quality:', c_wr)\n",
    "print('Wrong hits: ', c_mm)"
   ]
  }
 ],
 "metadata": {
  "kernelspec": {
   "display_name": "Python 3",
   "language": "python",
   "name": "python3"
  },
  "language_info": {
   "codemirror_mode": {
    "name": "ipython",
    "version": 3
   },
   "file_extension": ".py",
   "mimetype": "text/x-python",
   "name": "python",
   "nbconvert_exporter": "python",
   "pygments_lexer": "ipython3",
   "version": "3.5.1"
  }
 },
 "nbformat": 4,
 "nbformat_minor": 0
}
