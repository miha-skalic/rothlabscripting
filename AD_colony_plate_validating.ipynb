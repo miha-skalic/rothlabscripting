{
 "cells": [
  {
   "cell_type": "code",
   "execution_count": 2,
   "metadata": {
    "collapsed": true
   },
   "outputs": [],
   "source": [
    "import pandas as pd"
   ]
  },
  {
   "cell_type": "code",
   "execution_count": 3,
   "metadata": {
    "collapsed": false
   },
   "outputs": [],
   "source": [
    "dest_plate = pd.read_excel('./input/finalYeastOrfeomeADSummaryFile.xlsx')\n",
    "confident_orfs = dest_plate[(dest_plate[\"% Dominant ORF\"] >= 30) & (dest_plate[\"% 2nd Dominant ORF\"] <= 5) & \n",
    "                            (dest_plate[\"Count Dominant ORF\"] >= 20)]"
   ]
  },
  {
   "cell_type": "markdown",
   "metadata": {},
   "source": [
    "### AD Plates - ORF Content"
   ]
  },
  {
   "cell_type": "code",
   "execution_count": 4,
   "metadata": {
    "collapsed": false
   },
   "outputs": [],
   "source": [
    "plate_cont = {}\n",
    "for plate, orf in zip(confident_orfs['Plate'], confident_orfs['Dominant ORF']):\n",
    "    plate_cont[plate] = plate_cont.get(plate, []) + [orf[:orf.index('_')]]\n",
    "    \n",
    "for plate in plate_cont:\n",
    "    plate_cont[plate] = set(plate_cont[plate])"
   ]
  },
  {
   "cell_type": "markdown",
   "metadata": {},
   "source": [
    "### ORF Sources"
   ]
  },
  {
   "cell_type": "code",
   "execution_count": 5,
   "metadata": {
    "collapsed": false
   },
   "outputs": [],
   "source": [
    "my_data = pd.read_excel('./input/Yeast ORFeome HIP ORFeome collection_v3 Details inc 384-format.xlsx')\n",
    "ORFs_per_plate ={}\n",
    "\n",
    "for orf, plate in zip(my_data['ORF_NAME'], my_data['384-Pool Name']):\n",
    "    plate = int(plate.split('_')[-1])\n",
    "    ORFs_per_plate[plate] = ORFs_per_plate.get(plate, []) + [orf]\n",
    "\n",
    "for plate in ORFs_per_plate:\n",
    "    ORFs_per_plate[plate] = set(ORFs_per_plate[plate])"
   ]
  },
  {
   "cell_type": "markdown",
   "metadata": {},
   "source": [
    "### Validate if ORF is on Source plate"
   ]
  },
  {
   "cell_type": "code",
   "execution_count": 6,
   "metadata": {
    "collapsed": false,
    "scrolled": false
   },
   "outputs": [
    {
     "name": "stdout",
     "output_type": "stream",
     "text": [
      "Plate AD-8-2: 162 out of 166 ORFs (97.59 %) are from \"correct\" plate.\n",
      "Plate AD-5-2: 75 out of 78 ORFs (96.15 %) are from \"correct\" plate.\n",
      "Plate AD-12-3: 173 out of 175 ORFs (98.86 %) are from \"correct\" plate.\n",
      "Plate AD-14-3: 92 out of 94 ORFs (97.87 %) are from \"correct\" plate.\n",
      "Plate AD-6-2: 168 out of 171 ORFs (98.25 %) are from \"correct\" plate.\n",
      "Plate AD-3-2: 156 out of 159 ORFs (98.11 %) are from \"correct\" plate.\n",
      "Plate AD-15-2: 81 out of 89 ORFs (91.01 %) are from \"correct\" plate.\n",
      "Plate AD-9-2: 161 out of 165 ORFs (97.58 %) are from \"correct\" plate.\n",
      "Plate AD-1-3: 84 out of 84 ORFs (100.00 %) are from \"correct\" plate.\n",
      "Plate AD-11-3: 98 out of 99 ORFs (98.99 %) are from \"correct\" plate.\n",
      "Plate AD-14-2: 80 out of 84 ORFs (95.24 %) are from \"correct\" plate.\n",
      "Plate AD-12-2: 164 out of 165 ORFs (99.39 %) are from \"correct\" plate.\n",
      "Plate AD-8-3: 147 out of 151 ORFs (97.35 %) are from \"correct\" plate.\n",
      "Plate AD-10-2: 114 out of 118 ORFs (96.61 %) are from \"correct\" plate.\n",
      "Plate AD-2-1: 158 out of 163 ORFs (96.93 %) are from \"correct\" plate.\n",
      "Plate AD-7-1: 91 out of 91 ORFs (100.00 %) are from \"correct\" plate.\n",
      "Plate AD-13-2: 82 out of 83 ORFs (98.80 %) are from \"correct\" plate.\n",
      "Plate AD-5-1: 72 out of 76 ORFs (94.74 %) are from \"correct\" plate.\n",
      "Plate AD-11-1: 187 out of 190 ORFs (98.42 %) are from \"correct\" plate.\n",
      "Plate AD-10-1: 97 out of 98 ORFs (98.98 %) are from \"correct\" plate.\n",
      "Plate AD-4-1: 111 out of 114 ORFs (97.37 %) are from \"correct\" plate.\n",
      "Plate AD-15-3: 80 out of 86 ORFs (93.02 %) are from \"correct\" plate.\n",
      "Plate AD-4-2: 171 out of 175 ORFs (97.71 %) are from \"correct\" plate.\n",
      "Plate AD-6-1: 166 out of 169 ORFs (98.22 %) are from \"correct\" plate.\n",
      "Plate AD-7-2: 63 out of 63 ORFs (100.00 %) are from \"correct\" plate.\n",
      "Plate AD-2-3: 147 out of 149 ORFs (98.66 %) are from \"correct\" plate.\n",
      "Plate AD-9-3: 178 out of 182 ORFs (97.80 %) are from \"correct\" plate.\n",
      "Plate AD-3-1: 161 out of 167 ORFs (96.41 %) are from \"correct\" plate.\n"
     ]
    }
   ],
   "source": [
    "for dplate in plate_cont:\n",
    "    origin = int(dplate.split('-')[1])\n",
    "    presence = [1 if i in ORFs_per_plate[origin] else 0 for i in plate_cont[dplate]]\n",
    "    print('Plate {}: {} out of {} ORFs ({:.2f} %) are from \"correct\" plate.'.format(dplate, sum(presence), len(presence), \n",
    "                                                                                    sum(presence)/len(presence)*100))"
   ]
  }
 ],
 "metadata": {
  "kernelspec": {
   "display_name": "Python 3",
   "language": "python",
   "name": "python3"
  },
  "language_info": {
   "codemirror_mode": {
    "name": "ipython",
    "version": 3
   },
   "file_extension": ".py",
   "mimetype": "text/x-python",
   "name": "python",
   "nbconvert_exporter": "python",
   "pygments_lexer": "ipython3",
   "version": "3.4.1"
  }
 },
 "nbformat": 4,
 "nbformat_minor": 0
}
