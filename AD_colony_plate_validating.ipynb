{
 "cells": [
  {
   "cell_type": "code",
   "execution_count": 6,
   "metadata": {
    "collapsed": true
   },
   "outputs": [],
   "source": [
    "import pandas as pd"
   ]
  },
  {
   "cell_type": "code",
   "execution_count": 7,
   "metadata": {
    "collapsed": false
   },
   "outputs": [],
   "source": [
    "dest_plate = pd.read_excel('./input/finalYeastOrfeomeADSummaryFile.xlsx')\n",
    "confident_orfs = dest_plate[(dest_plate[\"% Dominant ORF\"] >= 80) & (dest_plate[\"% 2nd Dominant ORF\"] <= 5) & \n",
    "                            (dest_plate[\"Count Dominant ORF\"] >= 40)]"
   ]
  },
  {
   "cell_type": "markdown",
   "metadata": {},
   "source": [
    "### AD Plates - ORF Content"
   ]
  },
  {
   "cell_type": "code",
   "execution_count": 8,
   "metadata": {
    "collapsed": false
   },
   "outputs": [],
   "source": [
    "plate_cont = {}\n",
    "for plate, orf in zip(confident_orfs['Plate'], confident_orfs['Dominant ORF']):\n",
    "    plate_cont[plate] = plate_cont.get(plate, []) + [orf[:orf.index('_')]]\n",
    "    \n",
    "for plate in plate_cont:\n",
    "    plate_cont[plate] = set(plate_cont[plate])"
   ]
  },
  {
   "cell_type": "markdown",
   "metadata": {},
   "source": [
    "### ORF Sources"
   ]
  },
  {
   "cell_type": "code",
   "execution_count": 9,
   "metadata": {
    "collapsed": false
   },
   "outputs": [],
   "source": [
    "my_data = pd.read_excel('./input/Yeast ORFeome HIP ORFeome collection_v3 Details inc 384-format.xlsx')\n",
    "ORFs_per_plate ={}\n",
    "\n",
    "for orf, plate in zip(my_data['ORF_NAME'], my_data['384-Pool Name']):\n",
    "    plate = int(plate.split('_')[-1])\n",
    "    ORFs_per_plate[plate] = ORFs_per_plate.get(plate, []) + [orf]\n",
    "\n",
    "for plate in ORFs_per_plate:\n",
    "    ORFs_per_plate[plate] = set(ORFs_per_plate[plate])"
   ]
  },
  {
   "cell_type": "markdown",
   "metadata": {},
   "source": [
    "### Validate if ORF is on Source plate"
   ]
  },
  {
   "cell_type": "code",
   "execution_count": 10,
   "metadata": {
    "collapsed": false,
    "scrolled": true
   },
   "outputs": [
    {
     "name": "stdout",
     "output_type": "stream",
     "text": [
      "Plate AD-9-2: 143 out of 147 ORFs (97.28 %) are from \"correct\" plate.\n",
      "Plate AD-7-2: 49 out of 49 ORFs (100.00 %) are from \"correct\" plate.\n",
      "Plate AD-14-2: 63 out of 65 ORFs (96.92 %) are from \"correct\" plate.\n",
      "Plate AD-6-1: 132 out of 133 ORFs (99.25 %) are from \"correct\" plate.\n",
      "Plate AD-14-3: 66 out of 68 ORFs (97.06 %) are from \"correct\" plate.\n",
      "Plate AD-15-3: 61 out of 62 ORFs (98.39 %) are from \"correct\" plate.\n",
      "Plate AD-7-1: 78 out of 78 ORFs (100.00 %) are from \"correct\" plate.\n",
      "Plate AD-5-1: 56 out of 59 ORFs (94.92 %) are from \"correct\" plate.\n",
      "Plate AD-15-2: 71 out of 78 ORFs (91.03 %) are from \"correct\" plate.\n",
      "Plate AD-5-2: 39 out of 40 ORFs (97.50 %) are from \"correct\" plate.\n",
      "Plate AD-12-2: 120 out of 120 ORFs (100.00 %) are from \"correct\" plate.\n",
      "Plate AD-12-3: 140 out of 142 ORFs (98.59 %) are from \"correct\" plate.\n",
      "Plate AD-11-3: 68 out of 69 ORFs (98.55 %) are from \"correct\" plate.\n",
      "Plate AD-8-2: 86 out of 89 ORFs (96.63 %) are from \"correct\" plate.\n",
      "Plate AD-8-3: 97 out of 101 ORFs (96.04 %) are from \"correct\" plate.\n",
      "Plate AD-6-2: 147 out of 149 ORFs (98.66 %) are from \"correct\" plate.\n",
      "Plate AD-9-3: 106 out of 110 ORFs (96.36 %) are from \"correct\" plate.\n",
      "Plate AD-1-3: 74 out of 74 ORFs (100.00 %) are from \"correct\" plate.\n",
      "Plate AD-11-1: 178 out of 181 ORFs (98.34 %) are from \"correct\" plate.\n",
      "Plate AD-13-2: 29 out of 29 ORFs (100.00 %) are from \"correct\" plate.\n"
     ]
    }
   ],
   "source": [
    "for dplate in plate_cont:\n",
    "    origin = int(dplate.split('-')[1])\n",
    "    presence = [1 if i in ORFs_per_plate[origin] else 0 for i in plate_cont[dplate]]\n",
    "    print('Plate {}: {} out of {} ORFs ({:.2f} %) are from \"correct\" plate.'.format(dplate, sum(presence), len(presence), \n",
    "                                                                                    sum(presence)/len(presence)*100))"
   ]
  }
 ],
 "metadata": {
  "kernelspec": {
   "display_name": "Python 3",
   "language": "python",
   "name": "python3"
  },
  "language_info": {
   "codemirror_mode": {
    "name": "ipython",
    "version": 3
   },
   "file_extension": ".py",
   "mimetype": "text/x-python",
   "name": "python",
   "nbconvert_exporter": "python",
   "pygments_lexer": "ipython3",
   "version": "3.4.1"
  }
 },
 "nbformat": 4,
 "nbformat_minor": 0
}
