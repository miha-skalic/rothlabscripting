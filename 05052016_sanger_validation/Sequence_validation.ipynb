{
 "cells": [
  {
   "cell_type": "code",
   "execution_count": 1,
   "metadata": {
    "collapsed": true
   },
   "outputs": [],
   "source": [
    "import os \n",
    "import pandas as pd"
   ]
  },
  {
   "cell_type": "markdown",
   "metadata": {},
   "source": [
    "### Build Reference Fasta"
   ]
  },
  {
   "cell_type": "code",
   "execution_count": 2,
   "metadata": {
    "collapsed": false
   },
   "outputs": [],
   "source": [
    "orig_seqs = pd.read_excel('./input/Yeast ORFeome HIP ORFeome collection_v3 Details inc 384-format.xlsx')\n",
    "\n",
    "seq_source = {str(seq_name): str(seq) for seq_name, seq in zip(orig_seqs['ORF_NAME'], orig_seqs['SEQ']) if str(seq_name) != 'nan'}\n",
    "\n",
    "with open('./temp/ref.fasta','w') as handle:\n",
    "    for seq in seq_source:\n",
    "        handle.write('>{}\\n{}\\n'.format(seq, seq_source[seq]))"
   ]
  },
  {
   "cell_type": "markdown",
   "metadata": {},
   "source": [
    "### Build query Fasta"
   ]
  },
  {
   "cell_type": "code",
   "execution_count": 3,
   "metadata": {
    "collapsed": false,
    "scrolled": false
   },
   "outputs": [],
   "source": [
    "all_quey_names = []\n",
    "qw_file = open('./temp/query.fasta', 'w')\n",
    "\n",
    "for file in os.listdir('./input/'):\n",
    "    if file[-4:] != '.seq':\n",
    "        continue\n",
    "    name = file.replace('--', '-') \n",
    "    name = '_'.join(name.split('_')[0].split('-')).upper()\n",
    "    all_quey_names.append(name)\n",
    "    with open('./input/{}'.format(file), 'r') as handle:\n",
    "        handle.__next__()\n",
    "        print('>{}\\n{}'.format(name, handle.__next__()), file=qw_file)\n",
    "qw_file.close()"
   ]
  },
  {
   "cell_type": "markdown",
   "metadata": {},
   "source": [
    "### Blasting"
   ]
  },
  {
   "cell_type": "code",
   "execution_count": 4,
   "metadata": {
    "collapsed": false
   },
   "outputs": [],
   "source": [
    "os.system('blastn -query ./temp/query.fasta -subject ./temp/ref.fasta -outfmt 6 -out ./temp/blastresults.txt')\n",
    "\n",
    "blast_hits = {}\n",
    "with open('./temp/blastresults.txt', 'r') as handle:\n",
    "    for line in handle:\n",
    "        line = line.split()\n",
    "        blast_hits[line[0]] = blast_hits.get(line[0], []) + [line[1]]\n"
   ]
  },
  {
   "cell_type": "markdown",
   "metadata": {},
   "source": [
    "### Check matches"
   ]
  },
  {
   "cell_type": "code",
   "execution_count": 5,
   "metadata": {
    "collapsed": false,
    "scrolled": false
   },
   "outputs": [],
   "source": [
    "# Fetch reference file\n",
    "source_dict = {}\n",
    "\n",
    "my_table = pd.read_table('./input/Transfer_summary_AD.tsv')\n",
    "for a,b,c, gene in zip(my_table['Destination Plate'], my_table['Destination Row'], my_table['Destination Column'], my_table['Gene']):\n",
    "    built_name = 'AD_{}_{}_{}'.format(a,b,c)\n",
    "    source_dict[built_name] = gene\n",
    "\n",
    "my_table = pd.read_table('./input/Transfer_summary_DB.tsv')\n",
    "for a, b, c, gene in zip(my_table['Destination Plate'], my_table['Destination Row'], my_table['Destination Column'], my_table['Gene']):\n",
    "    built_name = 'DB_{}_{}_{}'.format(a,b,c)\n",
    "    source_dict[built_name] = gene"
   ]
  },
  {
   "cell_type": "code",
   "execution_count": 6,
   "metadata": {
    "collapsed": false,
    "scrolled": false
   },
   "outputs": [
    {
     "name": "stdout",
     "output_type": "stream",
     "text": [
      "WARNING: No blast hits for colony \"AD_1_11_10\"\n",
      "WARNING: No blast hits for colony \"AD_1_13_14\"\n",
      "WARNING: No blast hits for colony \"AD_1_2_9\"\n",
      "MISSMATCH: Spot \"AD_2_14_11\" differs, expected \"YMR160W\" got \"['YMR074C']\"\n",
      "OK: Gene \"YAL058W\" is in spot AD_2_7_18\n",
      "OK: Gene \"YGL050W\" is in spot AD_3_16_15\n",
      "WARNING: No blast hits for colony \"AD_3_9_2\"\n",
      "MISSMATCH: Spot \"AD_4_13_23\" differs, expected \"YOR212W\" got \"['YDR186C']\"\n",
      "MISSMATCH: Spot \"AD_4_1_3\" differs, expected \"YDR186C\" got \"['YBR058C']\"\n",
      "OK: Gene \"YBR063C\" is in spot AD_5_16_11\n",
      "OK: Gene \"YKL157W\" is in spot AD_5_1_20\n",
      "OK: Gene \"YBL061C\" is in spot AD_6_11_23\n",
      "OK: Gene \"YGR261C\" is in spot AD_6_8_24\n",
      "OK: Gene \"YKL047W\" is in spot AD_7_3_7\n",
      "WARNING: No blast hits for colony \"AD_7_8_8\"\n",
      "OK: Gene \"YGR103W\" is in spot DB_1_10_9\n",
      "WARNING: No blast hits for colony \"DB_1_1_24\"\n",
      "WARNING: No blast hits for colony \"DB_2_10_16\"\n",
      "OK: Gene \"YLR233C\" is in spot DB_2_16_13\n",
      "OK: Gene \"YBR227C\" is in spot DB_3_12_19\n",
      "OK: Gene \"YER149C\" is in spot DB_3_7_17\n",
      "OK: Gene \"YJR116W\" is in spot DB_4_15_4\n",
      "OK: Gene \"YPL243W\" is in spot DB_4_5_10\n",
      "OK: Gene \"YOR056C\" is in spot DB_5_5_10\n",
      "OK: Gene \"YPL160W\" is in spot DB_5_9_18\n",
      "MISSMATCH: Spot \"DB_6_3_22\" differs, expected \"YKR067W\" got \"['YLR383W']\"\n",
      "OK: Gene \"YOR178C\" is in spot DB_6_4_24\n"
     ]
    }
   ],
   "source": [
    "for query in sorted(all_quey_names):\n",
    "    if query not in blast_hits:\n",
    "        print('WARNING: No blast hits for colony \"{}\"'.format(query))\n",
    "    elif source_dict[query] in blast_hits[query]:\n",
    "        print('OK: Gene \"{}\" is in spot {}'.format(source_dict[query], query))\n",
    "    else:\n",
    "        print('MISSMATCH: Spot \"{}\" differs, expected \"{}\" got \"{}\"'.format(query, source_dict[query], blast_hits[query]))\n"
   ]
  }
 ],
 "metadata": {
  "kernelspec": {
   "display_name": "Python 3",
   "language": "python",
   "name": "python3"
  },
  "language_info": {
   "codemirror_mode": {
    "name": "ipython",
    "version": 3
   },
   "file_extension": ".py",
   "mimetype": "text/x-python",
   "name": "python",
   "nbconvert_exporter": "python",
   "pygments_lexer": "ipython3",
   "version": "3.4.1"
  }
 },
 "nbformat": 4,
 "nbformat_minor": 0
}
